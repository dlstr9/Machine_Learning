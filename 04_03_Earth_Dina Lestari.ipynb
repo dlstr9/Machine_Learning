{
  "nbformat": 4,
  "nbformat_minor": 0,
  "metadata": {
    "colab": {
      "provenance": []
    },
    "kernelspec": {
      "name": "python3",
      "display_name": "Python 3"
    },
    "language_info": {
      "name": "python"
    }
  },
  "cells": [
    {
      "cell_type": "markdown",
      "source": [
        "####Import Libraries"
      ],
      "metadata": {
        "id": "n3Gg7X9MRcRD"
      }
    },
    {
      "cell_type": "code",
      "execution_count": 1,
      "metadata": {
        "id": "z_mhGdQsQ41K"
      },
      "outputs": [],
      "source": [
        "import torch\n",
        "import torch.nn as nn\n",
        "import torch.optim as optim\n",
        "import torchvision.transforms as transforms\n",
        "from torchvision.datasets import MNIST\n",
        "from torch.utils.data import DataLoader\n",
        "import matplotlib.pyplot as plt\n",
        "from sklearn.metrics import accuracy_score, confusion_matrix, f1_score, precision_score, recall_score"
      ]
    },
    {
      "cell_type": "markdown",
      "source": [
        "#####Load MNIST Dataset\n"
      ],
      "metadata": {
        "id": "sG2d0IYZR4DI"
      }
    },
    {
      "cell_type": "code",
      "source": [
        "# Define data transformations\n",
        "transform = transforms.Compose([transforms.ToTensor(), transforms.Normalize((0.5,), (0.5,))])\n",
        "\n",
        "# Load MNIST dataset\n",
        "train_dataset = MNIST(root='./data', train=True, transform=transform, download=True)\n",
        "test_dataset = MNIST(root='./data', train=False, transform=transform, download=True)\n",
        "\n",
        "# Create data loaders\n",
        "batch_size = 64\n",
        "train_loader = DataLoader(train_dataset, batch_size=batch_size, shuffle=True)\n",
        "test_loader = DataLoader(test_dataset, batch_size=batch_size, shuffle=False)"
      ],
      "metadata": {
        "colab": {
          "base_uri": "https://localhost:8080/"
        },
        "id": "Yo_ozEBOR64C",
        "outputId": "d2065c70-68be-4911-c567-3e39c825ccce"
      },
      "execution_count": 2,
      "outputs": [
        {
          "output_type": "stream",
          "name": "stdout",
          "text": [
            "Downloading http://yann.lecun.com/exdb/mnist/train-images-idx3-ubyte.gz\n",
            "Downloading http://yann.lecun.com/exdb/mnist/train-images-idx3-ubyte.gz to ./data/MNIST/raw/train-images-idx3-ubyte.gz\n"
          ]
        },
        {
          "output_type": "stream",
          "name": "stderr",
          "text": [
            "100%|██████████| 9912422/9912422 [00:00<00:00, 157656340.63it/s]"
          ]
        },
        {
          "output_type": "stream",
          "name": "stdout",
          "text": [
            "Extracting ./data/MNIST/raw/train-images-idx3-ubyte.gz to ./data/MNIST/raw\n"
          ]
        },
        {
          "output_type": "stream",
          "name": "stderr",
          "text": [
            "\n"
          ]
        },
        {
          "output_type": "stream",
          "name": "stdout",
          "text": [
            "\n",
            "Downloading http://yann.lecun.com/exdb/mnist/train-labels-idx1-ubyte.gz\n",
            "Downloading http://yann.lecun.com/exdb/mnist/train-labels-idx1-ubyte.gz to ./data/MNIST/raw/train-labels-idx1-ubyte.gz\n"
          ]
        },
        {
          "output_type": "stream",
          "name": "stderr",
          "text": [
            "100%|██████████| 28881/28881 [00:00<00:00, 97454299.13it/s]\n"
          ]
        },
        {
          "output_type": "stream",
          "name": "stdout",
          "text": [
            "Extracting ./data/MNIST/raw/train-labels-idx1-ubyte.gz to ./data/MNIST/raw\n",
            "\n",
            "Downloading http://yann.lecun.com/exdb/mnist/t10k-images-idx3-ubyte.gz\n",
            "Downloading http://yann.lecun.com/exdb/mnist/t10k-images-idx3-ubyte.gz to ./data/MNIST/raw/t10k-images-idx3-ubyte.gz\n"
          ]
        },
        {
          "output_type": "stream",
          "name": "stderr",
          "text": [
            "100%|██████████| 1648877/1648877 [00:00<00:00, 28718451.76it/s]"
          ]
        },
        {
          "output_type": "stream",
          "name": "stdout",
          "text": [
            "Extracting ./data/MNIST/raw/t10k-images-idx3-ubyte.gz to ./data/MNIST/raw\n"
          ]
        },
        {
          "output_type": "stream",
          "name": "stderr",
          "text": [
            "\n"
          ]
        },
        {
          "output_type": "stream",
          "name": "stdout",
          "text": [
            "\n",
            "Downloading http://yann.lecun.com/exdb/mnist/t10k-labels-idx1-ubyte.gz\n",
            "Downloading http://yann.lecun.com/exdb/mnist/t10k-labels-idx1-ubyte.gz to ./data/MNIST/raw/t10k-labels-idx1-ubyte.gz\n"
          ]
        },
        {
          "output_type": "stream",
          "name": "stderr",
          "text": [
            "100%|██████████| 4542/4542 [00:00<00:00, 25333149.96it/s]\n"
          ]
        },
        {
          "output_type": "stream",
          "name": "stdout",
          "text": [
            "Extracting ./data/MNIST/raw/t10k-labels-idx1-ubyte.gz to ./data/MNIST/raw\n",
            "\n"
          ]
        }
      ]
    },
    {
      "cell_type": "markdown",
      "source": [
        "#####Visualize MNIST Dataset:"
      ],
      "metadata": {
        "id": "eNDUjcnXSJ6f"
      }
    },
    {
      "cell_type": "code",
      "source": [
        "def show_samples(images, labels, n_samples=5):\n",
        "    fig, axes = plt.subplots(1, n_samples, figsize=(12, 3))\n",
        "    for i in range(n_samples):\n",
        "        axes[i].imshow(images[i].squeeze(), cmap='gray')\n",
        "        axes[i].set_title(f'Label: {labels[i]}')\n",
        "        axes[i].axis('off')\n",
        "    plt.show()\n",
        "\n",
        "# Get a batch of training data for visualization\n",
        "sample_images, sample_labels = next(iter(train_loader))\n",
        "show_samples(sample_images, sample_labels)"
      ],
      "metadata": {
        "colab": {
          "base_uri": "https://localhost:8080/",
          "height": 219
        },
        "id": "mYbhlNN8SPis",
        "outputId": "7860c8f5-a9ac-4e95-ece1-d289322710f5"
      },
      "execution_count": 3,
      "outputs": [
        {
          "output_type": "display_data",
          "data": {
            "text/plain": [
              "<Figure size 1200x300 with 5 Axes>"
            ],
            "image/png": "[encoded data removed]"
          },
          "metadata": {}
        }
      ]
    },
    {
      "cell_type": "markdown",
      "source": [
        "####Design Neural Network Model"
      ],
      "metadata": {
        "id": "Kk6yErVWTLNt"
      }
    },
    {
      "cell_type": "code",
      "source": [
        "class NeuralNet(nn.Module):\n",
        "    def __init__(self, input_size, hidden_size, num_classes):\n",
        "        super(NeuralNet, self).__init__()\n",
        "        self.fc1 = nn.Linear(input_size, hidden_size)\n",
        "        self.relu = nn.ReLU()\n",
        "        self.fc2 = nn.Linear(hidden_size, num_classes)\n",
        "\n",
        "    def forward(self, x):\n",
        "        x = x.view(x.size(0), -1)\n",
        "        out = self.fc1(x)\n",
        "        out = self.relu(out)\n",
        "        out = self.fc2(out)\n",
        "        return out\n",
        "\n",
        "# Initialize the model\n",
        "input_size = 28 * 28  # MNIST image size\n",
        "hidden_size = 128\n",
        "num_classes = 10\n",
        "model = NeuralNet(input_size, hidden_size, num_classes)"
      ],
      "metadata": {
        "id": "1N5FcTzESRbf"
      },
      "execution_count": 4,
      "outputs": []
    },
    {
      "cell_type": "markdown",
      "source": [
        "####Set Hyperparameters and Loss Function"
      ],
      "metadata": {
        "id": "mmYMxOp6TYuo"
      }
    },
    {
      "cell_type": "code",
      "source": [
        "learning_rate = 0.001\n",
        "criterion = nn.CrossEntropyLoss()\n",
        "optimizer = optim.Adam(model.parameters(), lr=learning_rate)"
      ],
      "metadata": {
        "id": "Pxmy1oc8TRff"
      },
      "execution_count": 5,
      "outputs": []
    },
    {
      "cell_type": "markdown",
      "source": [
        "####Training Loop"
      ],
      "metadata": {
        "id": "ngDNcLmpTjl5"
      }
    },
    {
      "cell_type": "code",
      "source": [
        "num_epochs = 10\n",
        "\n",
        "for epoch in range(num_epochs):\n",
        "    model.train()\n",
        "    for images, labels in train_loader:\n",
        "        optimizer.zero_grad()\n",
        "        outputs = model(images)\n",
        "        loss = criterion(outputs, labels)\n",
        "        loss.backward()\n",
        "        optimizer.step()\n",
        "\n",
        "    print(f'Epoch [{epoch + 1}/{num_epochs}], Loss: {loss.item():.4f}')\n",
        "\n",
        "print('Training finished.')"
      ],
      "metadata": {
        "colab": {
          "base_uri": "https://localhost:8080/"
        },
        "id": "MhgCQCQuTcDf",
        "outputId": "15f2825a-5fb2-47b6-eb55-c4e6620fa924"
      },
      "execution_count": 6,
      "outputs": [
        {
          "output_type": "stream",
          "name": "stdout",
          "text": [
            "Epoch [1/10], Loss: 0.1872\n",
            "Epoch [2/10], Loss: 0.0720\n",
            "Epoch [3/10], Loss: 0.1015\n",
            "Epoch [4/10], Loss: 0.2506\n",
            "Epoch [5/10], Loss: 0.0880\n",
            "Epoch [6/10], Loss: 0.0852\n",
            "Epoch [7/10], Loss: 0.1400\n",
            "Epoch [8/10], Loss: 0.1829\n",
            "Epoch [9/10], Loss: 0.1260\n",
            "Epoch [10/10], Loss: 0.0394\n",
            "Training finished.\n"
          ]
        }
      ]
    },
    {
      "cell_type": "markdown",
      "source": [
        "####Evaluate the Model"
      ],
      "metadata": {
        "id": "9PnkwpqeTpZn"
      }
    },
    {
      "cell_type": "code",
      "source": [
        "model.eval()\n",
        "with torch.no_grad():\n",
        "    correct = 0\n",
        "    total = 0\n",
        "    predicted_labels = []\n",
        "    true_labels = []\n",
        "\n",
        "    for images, labels in test_loader:\n",
        "        outputs = model(images)\n",
        "        _, predicted = torch.max(outputs.data, 1)\n",
        "        total += labels.size(0)\n",
        "        correct += (predicted == labels).sum().item()\n",
        "        predicted_labels.extend(predicted.cpu().numpy())\n",
        "        true_labels.extend(labels.cpu().numpy())\n",
        "\n",
        "    accuracy = 100 * (accuracy_score(true_labels, predicted_labels))\n",
        "    f1 = 100 * (f1_score(true_labels, predicted_labels, average='weighted'))\n",
        "    precision = 100 * (precision_score(true_labels, predicted_labels, average='weighted'))\n",
        "    recall = 100 * (recall_score(true_labels, predicted_labels, average='weighted'))\n",
        "\n",
        "    print(f'Accuracy: {accuracy:.2f}')\n",
        "    print(f'F1 Score: {f1:.2f}')\n",
        "    print(f'Precision: {precision:.2f}')\n",
        "    print(f'Recall: {recall:.2f}')\n",
        "\n",
        "    cm = confusion_matrix(true_labels, predicted_labels)\n",
        "    print('Confusion Matrix:')\n",
        "    print(cm)"
      ],
      "metadata": {
        "colab": {
          "base_uri": "https://localhost:8080/"
        },
        "id": "EA2L5hZDTe0j",
        "outputId": "1107c372-3b37-4c49-cb2b-1987b00786ff"
      },
      "execution_count": 10,
      "outputs": [
        {
          "output_type": "stream",
          "name": "stdout",
          "text": [
            "Accuracy: 97.18\n",
            "F1 Score: 97.18\n",
            "Precision: 97.20\n",
            "Recall: 97.18\n",
            "Confusion Matrix:\n",
            "[[ 957    0    6    0    2    3    5    5    2    0]\n",
            " [   0 1126    4    2    0    0    1    0    2    0]\n",
            " [   3    2 1016    0    2    0    1    4    4    0]\n",
            " [   0    0    9  986    0   10    0    2    2    1]\n",
            " [   0    0    7    1  954    0    4    2    1   13]\n",
            " [   3    0    1    5    2  870    5    1    3    2]\n",
            " [   3    4    3    1    3    4  935    1    4    0]\n",
            " [   1   12   18    8    1    0    1  982    2    3]\n",
            " [   3    0   12   17    4    3    4    3  928    0]\n",
            " [   2    3    1   14    9    3    1   10    2  964]]\n"
          ]
        }
      ]
    },
    {
      "cell_type": "markdown",
      "source": [
        "####Explaining the result"
      ],
      "metadata": {
        "id": "wHelNkUpUiS5"
      }
    },
    {
      "cell_type": "markdown",
      "source": [
        "High accuracy (close to 1.0) indicates that the model is generally good at classifying digits.\n",
        "\n",
        "A high F1 score, precision, and recall suggest that the model performs well in terms of both positive and negative predictions. In this context, it means the model is effective at classifying both digits and non-digits.\n",
        "\n",
        "The confusion matrix provides insights into specific areas of model performance. You can identify which digits are challenging for the model and whether it has a bias towards certain classes."
      ],
      "metadata": {
        "id": "QmWmWu9DPXZk"
      }
    }
  ]
}